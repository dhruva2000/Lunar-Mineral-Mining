{
 "cells": [
  {
   "cell_type": "code",
   "execution_count": null,
   "metadata": {},
   "outputs": [],
   "source": [
    "!pip install Pillow\n",
    "!pip install matplotlib\n",
    "!pip install opencv-python"
   ]
  },
  {
   "cell_type": "code",
   "execution_count": 12,
   "metadata": {},
   "outputs": [],
   "source": [
    "from PIL import Image\n",
    "import numpy as np\n",
    "import matplotlib.pyplot as plt\n",
    "import cv2"
   ]
  },
  {
   "cell_type": "code",
   "execution_count": 13,
   "metadata": {},
   "outputs": [],
   "source": [
    "def interpolate(value, start, end):\n",
    "    \"\"\"Interpolate a value between a start and end point.\"\"\"\n",
    "    return start + (end - start) * value\n",
    "\n",
    "'''\n",
    "min_value should be 0k and max_value should be 400k for temp\n",
    "min_value should be 0 and max_value should be 45 for slope\n",
    "'''\n",
    "def color_to_value(color, min_value, max_value, scale):\n",
    "    #slope_min = rgb(67,0,71)\n",
    "    #slope_max = rgb(255,255,255)\n",
    "    #temp_min = rgb(244,81,255)\n",
    "    #temp_max = rgb(255,255,255)\n",
    "\n",
    "    # Define variables\n",
    "    norm_min_color = np.array([0,0,0]) / 255.0\n",
    "    norm_max_color = np.array([255,255,255]) / 255.0\n",
    "\n",
    "    if scale == 'slope':\n",
    "        norm_min_color = np.array([67,0,71]) / 255.0\n",
    "        norm_max_color = np.array([255,255,255]) / 255.0\n",
    "    if scale == 'temp':\n",
    "        norm_min_color = np.array([244,81,255]) / 255.0\n",
    "        norm_max_color = np.array([255,255,255]) / 255.0\n",
    "    if scale == 'tio2':\n",
    "        norm_min_color = np.array([68,68,68]) / 255.0\n",
    "        norm_max_color = np.array([255,255,255]) / 255.0\n",
    "\n",
    "    norm_color = np.array(color) / 255.0\n",
    "    \n",
    "    # Calculate the relative position of the color in the gradient\n",
    "    # Avoid division by zero for a color that matches exactly the min_color\n",
    "    denom = (norm_max_color - norm_min_color)\n",
    "    denom = np.where(denom == 0, 1, denom)  # Protect against division by zero\n",
    "    relative_position = (norm_color - norm_min_color) / denom\n",
    "    \n",
    "    # Use the position to interpolate between the min and max values\n",
    "    # If the color is exactly min_color, set position to 0 (start of scale)\n",
    "    relative_position = np.where(denom == 1, 0, relative_position)\n",
    "    \n",
    "    # Assuming the color gradient is linear and the scale is uniform\n",
    "    value = np.mean(relative_position)\n",
    "    \n",
    "    # Interpolate the numerical value\n",
    "    numerical_value = interpolate(value, min_value, max_value)\n",
    "    return numerical_value"
   ]
  },
  {
   "cell_type": "code",
   "execution_count": 27,
   "metadata": {},
   "outputs": [],
   "source": [
    "image1 = cv2.imread('./slope.png')\n",
    "image2 = cv2.imread('./heat.png')\n",
    "image3 = cv2.imread('./tio2.png')\n",
    "# Assuming the image is already in the color space you're mapping from\n",
    "height, width, channels = image1.shape\n",
    "\n",
    "# Initialize an array for your scalar values\n",
    "slope_map = np.zeros((height, width))\n",
    "tio2_map = np.zeros((height, width))\n",
    "heat_map = np.zeros((height, width))\n",
    "\n",
    "for i in range(height):\n",
    "    for j in range(width):\n",
    "        color = image1[i, j]\n",
    "        color2 = image2[i, j]\n",
    "        color3 = image3[i, j]\n",
    "\n",
    "        slope = color_to_value(color, 1, 45, 'slope')\n",
    "        heat = color_to_value(color2, 1, 400, 'heat')\n",
    "        tio2 = color_to_value(color3, 0.1, 0.11, 'tio2')\n",
    "\n",
    "        slope_map[i, j] = slope\n",
    "        heat_map[i, j] = heat\n",
    "        tio2_map[i, j] = tio2"
   ]
  },
  {
   "cell_type": "code",
   "execution_count": 28,
   "metadata": {},
   "outputs": [],
   "source": [
    "def estimate_value_of_profit(x,y):\n",
    "    slope_val = slope_map[x,y]\n",
    "    heat_val = heat_map[x,y]\n",
    "    tio2_val = tio2_map[x,y]\n",
    "    he_val = 1\n",
    "\n",
    "    if tio2_val > 0.05:\n",
    "        he_val = 15\n",
    "    if tio2_val > 0.03 and tio2_val < 0.05:\n",
    "        he_val = 8\n",
    "    if tio2_val > 0.01 and tio2_val < 0.03:\n",
    "        he_val = 3\n",
    "    if tio2_val < 0.01:\n",
    "        he_val = 1\n",
    "        \n",
    "    print(he_val)\n",
    "    print(tio2_val)\n",
    "    \n",
    "    return (5 * 0.0047**2 * 1900 * tio2_val * (32000*40000) / (he_val * 0.1 * slope_val * heat_val))"
   ]
  },
  {
   "cell_type": "code",
   "execution_count": 29,
   "metadata": {},
   "outputs": [
    {
     "name": "stdout",
     "output_type": "stream",
     "text": [
      "15\n",
      "0.11\n"
     ]
    },
    {
     "data": {
      "text/plain": [
       "2562501.3180368645"
      ]
     },
     "execution_count": 29,
     "metadata": {},
     "output_type": "execute_result"
    }
   ],
   "source": [
    "estimate_value_of_profit(100, 243)"
   ]
  }
 ],
 "metadata": {
  "kernelspec": {
   "display_name": "Python 3",
   "language": "python",
   "name": "python3"
  },
  "language_info": {
   "codemirror_mode": {
    "name": "ipython",
    "version": 3
   },
   "file_extension": ".py",
   "mimetype": "text/x-python",
   "name": "python",
   "nbconvert_exporter": "python",
   "pygments_lexer": "ipython3",
   "version": "3.11.7"
  }
 },
 "nbformat": 4,
 "nbformat_minor": 2
}

{
 "cells": [
  {
   "cell_type": "code",
   "execution_count": 1,
   "metadata": {},
   "outputs": [
    {
     "name": "stdout",
     "output_type": "stream",
     "text": [
      "Requirement already satisfied: Pillow in /Library/Frameworks/Python.framework/Versions/3.11/lib/python3.11/site-packages (10.3.0)\n",
      "Requirement already satisfied: matplotlib in /Library/Frameworks/Python.framework/Versions/3.11/lib/python3.11/site-packages (3.8.4)\n",
      "Requirement already satisfied: contourpy>=1.0.1 in /Library/Frameworks/Python.framework/Versions/3.11/lib/python3.11/site-packages (from matplotlib) (1.2.1)\n",
      "Requirement already satisfied: cycler>=0.10 in /Library/Frameworks/Python.framework/Versions/3.11/lib/python3.11/site-packages (from matplotlib) (0.12.1)\n",
      "Requirement already satisfied: fonttools>=4.22.0 in /Library/Frameworks/Python.framework/Versions/3.11/lib/python3.11/site-packages (from matplotlib) (4.51.0)\n",
      "Requirement already satisfied: kiwisolver>=1.3.1 in /Library/Frameworks/Python.framework/Versions/3.11/lib/python3.11/site-packages (from matplotlib) (1.4.5)\n",
      "Requirement already satisfied: numpy>=1.21 in /Library/Frameworks/Python.framework/Versions/3.11/lib/python3.11/site-packages (from matplotlib) (1.26.4)\n",
      "Requirement already satisfied: packaging>=20.0 in /Users/shahzoda/Library/Python/3.11/lib/python/site-packages (from matplotlib) (24.0)\n",
      "Requirement already satisfied: pillow>=8 in /Library/Frameworks/Python.framework/Versions/3.11/lib/python3.11/site-packages (from matplotlib) (10.3.0)\n",
      "Requirement already satisfied: pyparsing>=2.3.1 in /Library/Frameworks/Python.framework/Versions/3.11/lib/python3.11/site-packages (from matplotlib) (3.1.2)\n",
      "Requirement already satisfied: python-dateutil>=2.7 in /Users/shahzoda/Library/Python/3.11/lib/python/site-packages (from matplotlib) (2.9.0.post0)\n",
      "Requirement already satisfied: six>=1.5 in /Users/shahzoda/Library/Python/3.11/lib/python/site-packages (from python-dateutil>=2.7->matplotlib) (1.16.0)\n",
      "Requirement already satisfied: opencv-python in /Library/Frameworks/Python.framework/Versions/3.11/lib/python3.11/site-packages (4.9.0.80)\n",
      "Requirement already satisfied: numpy>=1.21.2 in /Library/Frameworks/Python.framework/Versions/3.11/lib/python3.11/site-packages (from opencv-python) (1.26.4)\n"
     ]
    }
   ],
   "source": [
    "!pip install Pillow\n",
    "!pip install matplotlib\n",
    "!pip install opencv-python"
   ]
  },
  {
   "cell_type": "code",
   "execution_count": 2,
   "metadata": {},
   "outputs": [],
   "source": [
    "from PIL import Image\n",
    "import numpy as np\n",
    "import matplotlib.pyplot as plt\n",
    "import cv2"
   ]
  },
  {
   "cell_type": "code",
   "execution_count": 3,
   "metadata": {},
   "outputs": [],
   "source": [
    "def interpolate(value, start, end):\n",
    "    \"\"\"Interpolate a value between a start and end point.\"\"\"\n",
    "    return start + (end - start) * value\n",
    "\n",
    "'''\n",
    "min_value should be 0k and max_value should be 400k for temp\n",
    "min_value should be 0 and max_value should be 45 for slope\n",
    "'''\n",
    "def color_to_value(color, min_value, max_value, scale):\n",
    "    #slope_min = rgb(67,0,71)\n",
    "    #slope_max = rgb(255,255,255)\n",
    "    #temp_min = rgb(244,81,255)\n",
    "    #temp_max = rgb(255,255,255)\n",
    "\n",
    "    # Define variables\n",
    "    norm_min_color = np.array([0,0,0]) / 255.0\n",
    "    norm_max_color = np.array([255,255,255]) / 255.0\n",
    "\n",
    "    if scale == 'slope':\n",
    "        norm_min_color = np.array([67,0,71]) / 255.0\n",
    "        norm_max_color = np.array([255,255,255]) / 255.0\n",
    "    if scale == 'temp':\n",
    "        norm_min_color = np.array([244,81,255]) / 255.0\n",
    "        norm_max_color = np.array([255,255,255]) / 255.0\n",
    "    if scale == 'tio2':\n",
    "        norm_min_color = np.array([68,68,68]) / 255.0\n",
    "        norm_max_color = np.array([255,255,255]) / 255.0\n",
    "\n",
    "    norm_color = np.array(color) / 255.0\n",
    "    \n",
    "    # Calculate the relative position of the color in the gradient\n",
    "    # Avoid division by zero for a color that matches exactly the min_color\n",
    "    denom = (norm_max_color - norm_min_color)\n",
    "    denom = np.where(denom == 0, 1, denom)  # Protect against division by zero\n",
    "    relative_position = (norm_color - norm_min_color) / denom\n",
    "    \n",
    "    # Use the position to interpolate between the min and max values\n",
    "    # If the color is exactly min_color, set position to 0 (start of scale)\n",
    "    relative_position = np.where(denom == 1, 0, relative_position)\n",
    "    \n",
    "    # Assuming the color gradient is linear and the scale is uniform\n",
    "    value = np.mean(relative_position)  # Mean position for RGB\n",
    "    \n",
    "    # Interpolate the numerical value\n",
    "    numerical_value = interpolate(value, min_value, max_value)\n",
    "    return numerical_value"
   ]
  },
  {
   "cell_type": "code",
   "execution_count": 4,
   "metadata": {},
   "outputs": [],
   "source": [
    "image1 = cv2.imread('./slope.png') #change this to slope or heat\n",
    "image2 = cv2.imread('./heat.png') #change this to slope or heat\n",
    "image3 = cv2.imread('./tio2.png') #change this to slope or heat\n",
    "# Assuming the image is already in the color space you're mapping from\n",
    "height, width, channels = image1.shape\n",
    "\n",
    "# Initialize an array for your scalar values\n",
    "slope_map = np.zeros((height, width))\n",
    "tio2_map = np.zeros((height, width))\n",
    "heat_map = np.zeros((height, width))\n",
    "\n",
    "for i in range(height):\n",
    "    for j in range(width):\n",
    "        color = image1[i, j]\n",
    "        color2 = image2[i, j]\n",
    "        color3 = image3[i, j]\n",
    "\n",
    "        slope = color_to_value(color, 0, 45, 'slope')\n",
    "        heat = color_to_value(color2, 0, 400, 'heat')\n",
    "        tio2 = color_to_value(color3, 1, 11, 'tio2')\n",
    "\n",
    "        slope_map[i, j] = slope\n",
    "        heat_map[i, j] = heat\n",
    "        tio2_map[i, j] = tio2\n",
    "\n",
    "# 'value_map' now contains the scalar values for each pixel "
   ]
  },
  {
   "cell_type": "code",
   "execution_count": 7,
   "metadata": {},
   "outputs": [],
   "source": [
    "def estimate_value_of_profit(x,y):\n",
    "    slope_val = slope_map[x,y]\n",
    "    heat_val = heat_map[x,y]\n",
    "    tio2_val = tio2_map[x,y]\n",
    "    he_val = 1\n",
    "\n",
    "    if tio2_val > 0.5:\n",
    "        he_val = 15\n",
    "    if tio2_val > 0.3 and tio2_val < 0.5:\n",
    "        he_val = 8\n",
    "    if tio2_val > 0.01 and tio2_val < 0.03:\n",
    "        he_val = 3\n",
    "    if tio2_val < 0.01:\n",
    "        he_val = 1\n",
    "    \n",
    "    return 5*4.68**2 * 1900 * tio2_val * (32000*40000) / he_val\n"
   ]
  },
  {
   "cell_type": "code",
   "execution_count": 8,
   "metadata": {},
   "outputs": [
    {
     "data": {
      "text/plain": [
       "195311001600000.0"
      ]
     },
     "execution_count": 8,
     "metadata": {},
     "output_type": "execute_result"
    }
   ],
   "source": [
    "estimate_value_of_profit(100, 243)"
   ]
  },
  {
   "cell_type": "code",
   "execution_count": null,
   "metadata": {},
   "outputs": [],
   "source": []
  }
 ],
 "metadata": {
  "kernelspec": {
   "display_name": "Python 3",
   "language": "python",
   "name": "python3"
  },
  "language_info": {
   "codemirror_mode": {
    "name": "ipython",
    "version": 3
   },
   "file_extension": ".py",
   "mimetype": "text/x-python",
   "name": "python",
   "nbconvert_exporter": "python",
   "pygments_lexer": "ipython3",
   "version": "3.11.7"
  }
 },
 "nbformat": 4,
 "nbformat_minor": 2
}
